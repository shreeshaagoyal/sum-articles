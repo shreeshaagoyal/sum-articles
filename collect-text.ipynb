{
 "cells": [
  {
   "cell_type": "code",
   "execution_count": 1,
   "metadata": {},
   "outputs": [],
   "source": [
    "import urllib\n",
    "import math\n",
    "from bs4 import BeautifulSoup"
   ]
  },
  {
   "cell_type": "code",
   "execution_count": 2,
   "metadata": {},
   "outputs": [],
   "source": [
    "# using an example url\n",
    "urltxt = \"https://www.telegraph.co.uk/news/earth/environment/climatechange/10933964/Emperor-Penguins-are-now-endangered-warn-biologists.html\"\n",
    "with urllib.request.urlopen(urltxt) as url:\n",
    "    html = url.read()\n",
    "soup = BeautifulSoup(html)"
   ]
  },
  {
   "cell_type": "code",
   "execution_count": 3,
   "metadata": {},
   "outputs": [
    {
     "name": "stdout",
     "output_type": "stream",
     "text": [
      "Accessibility links\n",
      "Skip to article\n",
      "Skip to navigation\n",
      "Telegraph.co.uk\n",
      "Tuesday 24 December 2019\n",
      "Home\n",
      "Video\n",
      "News\n",
      "World\n",
      "Sport\n",
      "Business\n",
      "Money\n",
      "Comment\n",
      "Culture\n",
      "Travel\n",
      "Life\n",
      "Women\n",
      "Fashion\n",
      "Luxury\n",
      "Tech\n",
      "Film\n",
      "Politics\n",
      "Investigations\n",
      "Obits\n",
      "Education\n",
      "Science\n",
      "Earth\n",
      "Weather\n",
      "Health\n",
      "Royal\n",
      "Celebrity\n",
      "Defence\n",
      "Scotland\n",
      "News\n",
      "Environment\n",
      "Climate Change\n",
      "Wildlife\n",
      "Picture Galleries\n",
      "Earth Video\n",
      "Tree diseases\n",
      "Advertisement\n",
      "Home»\n",
      "News»\n",
      "Earth»\n",
      "Environment»\n",
      "Climate Change\n",
      "Emperor Penguins are now endangered, warn biologists\n",
      "A new study has estimated that by 2100, at least two-thirds of Emperor penguin\n",
      "colonies will have dramatically declined by more than half if temperatures\n",
      "rise at the rate predicted by the Intergovernmental Panel on Climate Change\n",
      "(IPCC)\n",
      "Emperor Penguins on frozen sea ice in Antarctica. Photo: Paul Souders / Barcroft Media\n",
      "By\n",
      "Sarah Knapton, Science Correspondent\n",
      "5:00PM BST 29 Jun 2014\n",
      "Follow\n",
      "Emperor penguins should be classed as an endangered species because the majority of colonies will have lost half their populations by the end of the century, biologists have warned.  The flightless birds which inhabit Antarctica are threatened by changes to sea ice which are being driving by climate change.  Emperor penguins are heavily dependent on sea ice as it provides krill, one of their primary food sources.  A new study has estimated that by 2100, at least two-thirds of emperor penguin colonies will have dramatically declined by more than half if temperatures rise at the rate predicted by the Interngovernmental Panel on Climate Change (IPCC)  The study was conducted by lead author Stephanie Jenouvrier, a biologist with the Woods Hole Oceanographic Institution (WHOI).\n",
      "Related Articles\n",
      "Mysterious 'penguins' spotted off Yorkshire coast\n",
      "20 Jan 2015\n",
      "Emperor penguins go with the floe\n",
      "21 Nov 2012\n",
      "Emperor penguin chicks\n",
      "14 Nov 2011\n",
      "Antarctic emperor penguins\n",
      "06 Feb 2009\n",
      "Penguins in Antarctica\n",
      "05 Oct 2010\n",
      "Emperor penguins use sea ice to catch a breather\n",
      "21 Nov 2012\n",
      "Researchers have been returning to Terre Adélie, which lies across the Southern Ocean from New Zeland, every year to chart populations, monitoring their their mating, foraging, chick-rearing patterns, and following marked individuals.  \"If sea ice declines at the rates projected by the IPCC climate models, and continues to influence emperor penguins as it did in the second half of the 20th century in Terre Adélie, at least two-thirds of the colonies are projected to have declined by greater than 50 percent from their current size by 2100,\" said Jenouvrier.  \"None of the colonies, even the southern-most locations in the Ross Sea, will provide a viable refuge by the end of 21st century.  \"We propose that the emperor penguin is fully deserving of endangered status due to climate change, and can act as an iconic example of a new global conservation paradigm for species threatened by future climate change.”   Stephanie Jenouvrier with an emperor penguin chick  The emperor penguin is currently under consideration for inclusion under the US Endangered Species Act. In 2012 the status of the birds was changed from ‘least concern’ to ‘near threatened’ by the International Union for Conservation of Nature. (IUCN), but they are not on the ‘red list.’  Emperor penguins are heavily dependent on sea ice for their livelihoods, and, therefore, are sensitive to changes in sea ice concentration  \"The role of sea ice is complicated Too much ice requires longer trips for penguin parents to travel to the ocean to hunt and bring back food for their chicks,” said Jenouvrier.  “But too little ice reduces the habitat for krill, a critical food source for emperor penguins. Our models take into account both the effects of too much and too little sea ice in the colony area.\"   Listing the species as endangered would kick-start conservation efforts and prevent the animals being further disturbed through bad fishing practices or habitat loss.  \"When a species is at risk due to one factor – in this case, climate change – it can be helped, sometimes greatly, by amelioration of other factors,” said Hal Caswell, a scientist emeritus at WHOI and professor at the University of Amsterdam.  “That's why the Endangered Species Act is written to protect an endangered species in a number of ways – exploitation, habitat, disturbance, etc. – even if those factors are not the cause of its current predicament.\"  The research was published in the journal Nature Climate Change.\n",
      "Climate Change\n",
      "News »\n",
      "Science News »\n",
      "Earth News »\n",
      "Environment »\n",
      "Wildlife »\n",
      "In Climate Change\n",
      "Bolivia's second largest lake dries up\n",
      "China's dirty old town\n",
      "Somerset Levels flooding\n",
      "Communities are still powerless to stop wind farms\n",
      "The weather prophets should be chucked in the deep end\n",
      "Climate change MP: humans may not be to blame for global warming\n",
      "Ignore the doom merchants, Britain should get fracking\n",
      "Top news galleries\n",
      "Advertisement\n",
      "Advertisement\n",
      "Latest Video»\n",
      "Disabled great-grandfather denied stairlift and forced to crawl\n",
      "Elderly wombat rescued after being attacked\n",
      "Sponsored\n",
      "When media meets medicine\n",
      "Advertisement\n",
      "Advertisement\n",
      "More from the web\n",
      "More from the web\n",
      "Back to top\n",
      "HOME\n",
      "News\n",
      "UK News\n",
      "Politics\n",
      "Long Reads\n",
      "Wikileaks\n",
      "Jobs\n",
      "World News\n",
      "Europe\n",
      "USA\n",
      "China\n",
      "Royal Family News\n",
      "Celebrity news\n",
      "Dating\n",
      "Finance\n",
      "Education\n",
      "Defence\n",
      "Weird News\n",
      "Editor's Choice\n",
      "Financial Services\n",
      "Pictures\n",
      "Video\n",
      "Matt\n",
      "Alex\n",
      "Comment\n",
      "Blogs\n",
      "Crossword\n",
      "Contact us\n",
      "Privacy and Cookies\n",
      "Advertising\n",
      "Fantasy Football\n",
      "Tickets\n",
      "Announcements\n",
      "Reader Prints\n",
      "Follow Us\n",
      "Apps\n",
      "Epaper\n",
      "Expat\n",
      "Promotions\n",
      "Subscriber\n",
      "Syndication\n",
      "© Copyright of Telegraph Media Group Limited 2019\n",
      "Terms and Conditions\n",
      "Today's News\n",
      "Archive\n",
      "Style Book\n",
      "Weather Forecast\n"
     ]
    }
   ],
   "source": [
    "def getPlainText(soup):\n",
    "    # remove script and style elements\n",
    "    for script in soup([\"script\", \"style\"]):\n",
    "        script.extract()\n",
    "    text = soup.body.get_text()\n",
    "    \n",
    "    # remove trailing white space and blank lines\n",
    "    lines = (line.strip() for line in text.splitlines())\n",
    "    text = '\\n'.join(line for line in lines if line)\n",
    "    return text\n",
    "\n",
    "text = getPlainText(soup)\n",
    "print(text)"
   ]
  },
  {
   "cell_type": "code",
   "execution_count": 4,
   "metadata": {
    "scrolled": true
   },
   "outputs": [
    {
     "name": "stdout",
     "output_type": "stream",
     "text": [
      "Emperor Penguins are now endangered, warn biologists\n",
      "A new study has estimated that by 2100, at least two-thirds of Emperor penguin\n",
      "colonies will have dramatically declined by more than half if temperatures\n",
      "rise at the rate predicted by the Intergovernmental Panel on Climate Change\n",
      "Emperor Penguins on frozen sea ice in Antarctica. Photo: Paul Souders / Barcroft Media\n",
      "Emperor penguins should be classed as an endangered species because the majority of colonies will have lost half their populations by the end of the century, biologists have warned.  The flightless birds which inhabit Antarctica are threatened by changes to sea ice which are being driving by climate change.  Emperor penguins are heavily dependent on sea ice as it provides krill, one of their primary food sources.  A new study has estimated that by 2100, at least two-thirds of emperor penguin colonies will have dramatically declined by more than half if temperatures rise at the rate predicted by the Interngovernmental Panel on Climate Change (IPCC)  The study was conducted by lead author Stephanie Jenouvrier, a biologist with the Woods Hole Oceanographic Institution (WHOI).\n",
      "Researchers have been returning to Terre Adélie, which lies across the Southern Ocean from New Zeland, every year to chart populations, monitoring their their mating, foraging, chick-rearing patterns, and following marked individuals.  \"If sea ice declines at the rates projected by the IPCC climate models, and continues to influence emperor penguins as it did in the second half of the 20th century in Terre Adélie, at least two-thirds of the colonies are projected to have declined by greater than 50 percent from their current size by 2100,\" said Jenouvrier.  \"None of the colonies, even the southern-most locations in the Ross Sea, will provide a viable refuge by the end of 21st century.  \"We propose that the emperor penguin is fully deserving of endangered status due to climate change, and can act as an iconic example of a new global conservation paradigm for species threatened by future climate change.”   Stephanie Jenouvrier with an emperor penguin chick  The emperor penguin is currently under consideration for inclusion under the US Endangered Species Act. In 2012 the status of the birds was changed from ‘least concern’ to ‘near threatened’ by the International Union for Conservation of Nature. (IUCN), but they are not on the ‘red list.’  Emperor penguins are heavily dependent on sea ice for their livelihoods, and, therefore, are sensitive to changes in sea ice concentration  \"The role of sea ice is complicated Too much ice requires longer trips for penguin parents to travel to the ocean to hunt and bring back food for their chicks,” said Jenouvrier.  “But too little ice reduces the habitat for krill, a critical food source for emperor penguins. Our models take into account both the effects of too much and too little sea ice in the colony area.\"   Listing the species as endangered would kick-start conservation efforts and prevent the animals being further disturbed through bad fishing practices or habitat loss.  \"When a species is at risk due to one factor – in this case, climate change – it can be helped, sometimes greatly, by amelioration of other factors,” said Hal Caswell, a scientist emeritus at WHOI and professor at the University of Amsterdam.  “That's why the Endangered Species Act is written to protect an endangered species in a number of ways – exploitation, habitat, disturbance, etc. – even if those factors are not the cause of its current predicament.\"  The research was published in the journal Nature Climate Change.\n",
      "The weather prophets should be chucked in the deep end\n",
      "Climate change MP: humans may not be to blame for global warming\n",
      "Ignore the doom merchants, Britain should get fracking\n",
      "Disabled great-grandfather denied stairlift and forced to crawl\n",
      "\n"
     ]
    }
   ],
   "source": [
    "# heuristic algorithm for extracting only sentences\n",
    "# TODO: replace with a semi-supervised learning model\n",
    "        \n",
    "def isSentence(s):\n",
    "    return isStringLong(s) and noLongConsecutiveChars(s)\n",
    "\n",
    "def isStringLong(string):\n",
    "    if (len(string) > 50): return True\n",
    "    else: return False\n",
    "        \n",
    "def noLongConsecutiveChars(string):\n",
    "    init = string[0] if len(string) > 0 else '';\n",
    "    consec_freq = []\n",
    "    count = 0\n",
    "    for c in string:\n",
    "        if c == init: count += 1\n",
    "        else:\n",
    "            consec_freq.append(count)\n",
    "            init = c\n",
    "            count = 1\n",
    "    consec_freq.append(count)\n",
    "    return (max(consec_freq) / len(string) < 0.5)\n",
    "    \n",
    "sentences = \"\"\n",
    "for line in text.splitlines():\n",
    "    if isSentence(line):\n",
    "        sentences += line + \"\\n\"\n",
    "print(sentences)"
   ]
  },
  {
   "cell_type": "code",
   "execution_count": 5,
   "metadata": {},
   "outputs": [
    {
     "name": "stdout",
     "output_type": "stream",
     "text": [
      "total read time: 4 minutes\n"
     ]
    }
   ],
   "source": [
    "# estimate read time for article\n",
    "# this will be more weighted on the number of characters in the extracted sentences\n",
    "# as well as some weight given to headings, other text, etc.\n",
    "# given average human read speed = 200 WPM\n",
    "\n",
    "# inputs: text with headings, etc and only sentences\n",
    "def getReadTime(sentences, text):\n",
    "    num_words = len(sentences.split())\n",
    "    read_time = num_words / 200\n",
    "\n",
    "    num_other_words = len(text.split()) - num_words\n",
    "    other_read_time = 0.1 * (num_other_words / 200)\n",
    "\n",
    "    total_read_time = math.ceil(read_time + other_read_time)\n",
    "    return total_read_time\n",
    "\n",
    "total_read_time = getReadTime(sentences, text)\n",
    "print(\"total read time:\", total_read_time, \"minutes\")"
   ]
  },
  {
   "cell_type": "markdown",
   "metadata": {},
   "source": [
    "# Summarize article text"
   ]
  },
  {
   "cell_type": "code",
   "execution_count": 6,
   "metadata": {
    "scrolled": true
   },
   "outputs": [
    {
     "name": "stdout",
     "output_type": "stream",
     "text": [
      "A new study has estimated that by 2100, at least two-thirds of emperor penguin colonies will have dramatically declined by more than half if temperatures rise at the rate predicted by the Interngovernmental Panel on Climate Change (IPCC)  The study was conducted by lead author Stephanie Jenouvrier, a biologist with the Woods Hole Oceanographic Institution (WHOI).\n"
     ]
    }
   ],
   "source": [
    "from gensim.summarization.summarizer import summarize\n",
    "\n",
    "# TODO: tune and optimize parameters\n",
    "def summarizeArticle(text):\n",
    "    return summarize(text, word_count=60)\n",
    "\n",
    "summary = summarizeArticle(sentences)\n",
    "print(summary)"
   ]
  }
 ],
 "metadata": {
  "kernelspec": {
   "display_name": "Python 3",
   "language": "python",
   "name": "python3"
  },
  "language_info": {
   "codemirror_mode": {
    "name": "ipython",
    "version": 3
   },
   "file_extension": ".py",
   "mimetype": "text/x-python",
   "name": "python",
   "nbconvert_exporter": "python",
   "pygments_lexer": "ipython3",
   "version": "3.7.4"
  }
 },
 "nbformat": 4,
 "nbformat_minor": 2
}
