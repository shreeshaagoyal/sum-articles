{
 "cells": [
  {
   "cell_type": "code",
   "execution_count": null,
   "metadata": {},
   "outputs": [],
   "source": [
    "import urllib\n",
    "import math\n",
    "from bs4 import BeautifulSoup"
   ]
  },
  {
   "cell_type": "code",
   "execution_count": null,
   "metadata": {},
   "outputs": [],
   "source": [
    "# using an example url\n",
    "urltxt = \"https://www.dataquest.io/blog/top-10-machine-learning-algorithms-for-beginners/\"\n",
    "with urllib.request.urlopen(urltxt) as url:\n",
    "    html = url.read()\n",
    "soup = BeautifulSoup(html)"
   ]
  },
  {
   "cell_type": "code",
   "execution_count": null,
   "metadata": {},
   "outputs": [],
   "source": [
    "# remove script and style elements\n",
    "for script in soup([\"script\", \"style\"]):\n",
    "    script.extract()\n",
    "\n",
    "# extract body text\n",
    "text = soup.body.get_text()\n",
    "\n",
    "# remove trailing white space and blank lines\n",
    "lines = (line.strip() for line in text.splitlines())\n",
    "# chunks = (phrase.strip() for line in lines for phrase in line.split(\"  \"))\n",
    "text = '\\n'.join(line for line in lines if line)\n",
    "\n",
    "print(text)"
   ]
  },
  {
   "cell_type": "code",
   "execution_count": null,
   "metadata": {
    "scrolled": true
   },
   "outputs": [],
   "source": [
    "# heuristic algorithm for extracting only sentences\n",
    "# TODO: replace with a semi-supervised learning model\n",
    "\n",
    "sentences = \"\"\n",
    "for line in text.splitlines():\n",
    "    if isSentence(line):\n",
    "        sentences += line + \"\\n\"\n",
    "print(sentences)\n",
    "        \n",
    "def isSentence(s):\n",
    "    return isStringLong(s) and noLongConsecutiveChars(s)\n",
    "\n",
    "def isStringLong(string):\n",
    "    if (len(string) > 50): return True\n",
    "    else: return False\n",
    "        \n",
    "def noLongConsecutiveChars(string):\n",
    "    init = string[0] if len(string) > 0 else '';\n",
    "    consec_freq = []\n",
    "    count = 0\n",
    "    for c in string:\n",
    "        if c == init: count += 1\n",
    "        else:\n",
    "            consec_freq.append(count)\n",
    "            init = c\n",
    "            count = 1\n",
    "    consec_freq.append(count)\n",
    "    return (max(consec_freq) / len(string) < 0.5)\n",
    "    "
   ]
  },
  {
   "cell_type": "code",
   "execution_count": null,
   "metadata": {},
   "outputs": [],
   "source": [
    "# estimate read time for article\n",
    "# this will be more weighted on the number of characters in the extracted sentences\n",
    "# as well as some weight given to headings, other text, etc.\n",
    "\n",
    "# average human read speed = 200 WPM\n",
    "\n",
    "num_words = len(sentences.split())\n",
    "read_time = num_words / 200\n",
    "\n",
    "num_other_words = len(text.split()) - num_words\n",
    "other_read_time = 0.1 * (num_other_words / 200)\n",
    "\n",
    "total_read_time = math.ceil(read_time + other_read_time)\n",
    "print(\"total read time:\", total_read_time, \"minutes\")"
   ]
  },
  {
   "cell_type": "markdown",
   "metadata": {},
   "source": [
    "# Summarize article text"
   ]
  },
  {
   "cell_type": "code",
   "execution_count": null,
   "metadata": {
    "scrolled": true
   },
   "outputs": [],
   "source": [
    "from gensim.summarization.summarizer import summarize\n",
    "\n",
    "summary = summarize(sentences, word_count=100)\n",
    "print(summary)"
   ]
  }
 ],
 "metadata": {
  "kernelspec": {
   "display_name": "Python 3",
   "language": "python",
   "name": "python3"
  },
  "language_info": {
   "codemirror_mode": {
    "name": "ipython",
    "version": 3
   },
   "file_extension": ".py",
   "mimetype": "text/x-python",
   "name": "python",
   "nbconvert_exporter": "python",
   "pygments_lexer": "ipython3",
   "version": "3.7.4"
  }
 },
 "nbformat": 4,
 "nbformat_minor": 2
}
